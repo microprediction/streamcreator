{
  "nbformat": 4,
  "nbformat_minor": 0,
  "metadata": {
    "colab": {
      "name": "New_Key_12.ipynb",
      "provenance": [],
      "authorship_tag": "ABX9TyNXbKqtFqnwGq+i8Pdv6EkP",
      "include_colab_link": true
    },
    "kernelspec": {
      "name": "python3",
      "display_name": "Python 3"
    }
  },
  "cells": [
    {
      "cell_type": "markdown",
      "metadata": {
        "id": "view-in-github",
        "colab_type": "text"
      },
      "source": [
        "<a href=\"https://colab.research.google.com/github/microprediction/streamcreator/blob/main/New_Key_12.ipynb\" target=\"_parent\"><img src=\"https://colab.research.google.com/assets/colab-badge.svg\" alt=\"Open In Colab\"/></a>"
      ]
    },
    {
      "cell_type": "code",
      "metadata": {
        "id": "QCgJ1PzvDwfN"
      },
      "source": [
        "!pip install microprediction"
      ],
      "execution_count": null,
      "outputs": []
    },
    {
      "cell_type": "code",
      "metadata": {
        "id": "VI4g5AuSD7vL"
      },
      "source": [
        "from microprediction import new_key\n",
        "# This will take a while. https://www.microprediction.com/contact-us if you are in a hurry\n",
        "write_key_12 = new_key(difficulty=12) # Strong enough to create you own streams\n",
        "print(write_key_12)\n"
      ],
      "execution_count": null,
      "outputs": []
    }
  ]
}